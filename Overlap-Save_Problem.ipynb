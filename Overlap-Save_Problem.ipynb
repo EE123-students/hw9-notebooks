{
 "cells": [
  {
   "cell_type": "code",
   "execution_count": null,
   "metadata": {},
   "outputs": [],
   "source": [
    "import scipy.signal as signal\n",
    "import numpy as np\n",
    "import numpy.fft as fft\n",
    "from numpy.random import randn\n",
    "import matplotlib.pyplot as plt\n",
    "import timeit"
   ]
  },
  {
   "cell_type": "code",
   "execution_count": null,
   "metadata": {},
   "outputs": [],
   "source": [
    "%matplotlib inline\n",
    "plt.rcParams['figure.figsize'] = 16,6"
   ]
  },
  {
   "cell_type": "code",
   "execution_count": null,
   "metadata": {},
   "outputs": [],
   "source": [
    "def time_conv(conv, nu, nv):\n",
    "    u = randn(nu) + 1j * randn(nu)\n",
    "    v = randn(nv) + 1j * randn(nv)\n",
    "    t = %timeit -q -o -r 2 conv(u, v)\n",
    "    return t.average"
   ]
  },
  {
   "cell_type": "code",
   "execution_count": null,
   "metadata": {},
   "outputs": [],
   "source": [
    "def benchmark_conv(conv, sizes_h, sizes_x):\n",
    "    times = np.zeros((len(sizes_h), len(sizes_x)))\n",
    "    for i in range(len(sizes_h)):\n",
    "        for j in range(len(sizes_x)):\n",
    "            size_h = sizes_h[i]\n",
    "            size_x = sizes_x[j]\n",
    "            if size_h > size_x:\n",
    "                times[i,j] = np.nan\n",
    "            else:\n",
    "                time = time_conv(conv, size_x, size_h)\n",
    "                times[i,j] = time * 1e3\n",
    "#                 print(\"({},{}) -- {:0.2f} ms\".format(size_h, size_x, time * 1e3))\n",
    "    return times"
   ]
  },
  {
   "cell_type": "code",
   "execution_count": null,
   "metadata": {},
   "outputs": [],
   "source": [
    "def osconvolve(in1, in2):\n",
    "    # Inputs:  1-D numpy array, in1, an input signal\n",
    "    #          1-D numpy array, in2, an input signal\n",
    "    # Outputs: 1-D numpy array, y, the output of convolving in1 and in2\n",
    "    \n",
    "    # We only want 1-D convolution\n",
    "    assert len(in1.shape) == 1\n",
    "    assert len(in2.shape) == 1\n",
    "    \n",
    "    # Assume the shorter input is the filter h, and the longer input is the signal x\n",
    "    h = in1 if len(in1) < len(in2) else in2 # filter (shorter)\n",
    "    x = in2 if len(in1) < len(in2) else in1 # signal (longer)\n",
    "    \n",
    "    P = len(h) # filter length\n",
    "    y = np.zeros(???, dtype=x.dtype) # need to force dtype for complex values\n",
    "    \n",
    "    nfft = ??? # FFT length\n",
    "    L = ??? # number of new input samples per input block\n",
    "    \n",
    "    # Compute and store DFT of filter\n",
    "    H = ??? # H is nfft-length DFT of filter h\n",
    "    \n",
    "    # Initialize nfft-length block arrays\n",
    "    ???\n",
    "    \n",
    "    # Iterate over blocks\n",
    "    ???\n",
    "    \n",
    "    return y # final convolution output!"
   ]
  },
  {
   "cell_type": "code",
   "execution_count": null,
   "metadata": {},
   "outputs": [],
   "source": [
    "# check output for correctness\n",
    "size_x = 2 ** 10\n",
    "size_h = 2 ** 5\n",
    "x = randn(size_x) + 1j * randn(size_x)\n",
    "h = randn(size_h) * 1j * randn(size_h)\n",
    "y = osconvolve(h, x)\n",
    "y0 = signal.convolve(h, x)\n",
    "rmse = np.sqrt( (abs(y - y0) ** 2).mean() )\n",
    "print(\"RMSE = \", rmse)"
   ]
  },
  {
   "cell_type": "code",
   "execution_count": null,
   "metadata": {},
   "outputs": [],
   "source": [
    "# benchmark functions (SLOW! May take a few minutes on the Pi.)\n",
    "sizes_h = 2 ** np.array([4,8,12])\n",
    "sizes_x = 2 ** np.array([4,6,8,10,12,14])\n",
    "times_dir = benchmark_conv(np.convolve, sizes_h, sizes_x)\n",
    "times_fft = benchmark_conv(signal.fftconvolve, sizes_h, sizes_x)\n",
    "times_ola = benchmark_conv(signal.oaconvolve, sizes_h, sizes_x)\n",
    "times_ols = benchmark_conv(osconvolve, sizes_h, sizes_x)\n",
    "times_sci = benchmark_conv(signal.convolve, sizes_h, sizes_x)"
   ]
  },
  {
   "cell_type": "code",
   "execution_count": null,
   "metadata": {},
   "outputs": [],
   "source": [
    "# plot benchmark data\n",
    "for i in range(len(sizes_h)):\n",
    "    fig, ax = plt.subplots()\n",
    "    plt.loglog(sizes_x, times_dir[i], '.-')\n",
    "    plt.loglog(sizes_x, times_fft[i], '.-')\n",
    "    plt.loglog(sizes_x, times_ola[i], '.-')\n",
    "    plt.loglog(sizes_x, times_ols[i], '.-')\n",
    "    plt.loglog(sizes_x, times_sci[i], '.-')\n",
    "    plt.legend([\"Direct\", \"FFT\", \"OLA\", \"OLS (mine)\", \"Scipy's choice\"])\n",
    "    plt.title(\"Filter size = {}\".format(sizes_h[i]))\n",
    "    plt.xlabel(\"Input signal size\")\n",
    "    plt.ylabel(\"Time [ms]\")\n",
    "    plt.show()"
   ]
  },
  {
   "cell_type": "markdown",
   "metadata": {},
   "source": [
    "#### Some questions:\n",
    "1. When convolving a signal with a very short filter, which convolution method is generally the fastest?\n",
    "2. When convolving two very long signals, which convolution method is generally the fastest?\n",
    "3. When convolving a very, very long signal with a long (but not as long) filter, which convolution method is generally the fastest?\n",
    "4. How does your overlap-save implementation compare to Scipy's different implementations?\n",
    "5. The function scipy.convolve chooses between np.convolve, signal.fftconvolve, and signal.oaconvolve, depending on what it thinks will be the fastest after computing some heuristics based on historical benchmarks. How does it perform?"
   ]
  },
  {
   "cell_type": "markdown",
   "metadata": {},
   "source": [
    "#### Your answers here:\n"
   ]
  },
  {
   "cell_type": "code",
   "execution_count": null,
   "metadata": {},
   "outputs": [],
   "source": []
  }
 ],
 "metadata": {
  "kernelspec": {
   "display_name": "Python 3",
   "language": "python",
   "name": "python3"
  },
  "language_info": {
   "codemirror_mode": {
    "name": "ipython",
    "version": 3
   },
   "file_extension": ".py",
   "mimetype": "text/x-python",
   "name": "python",
   "nbconvert_exporter": "python",
   "pygments_lexer": "ipython3",
   "version": "3.5.3"
  }
 },
 "nbformat": 4,
 "nbformat_minor": 4
}
