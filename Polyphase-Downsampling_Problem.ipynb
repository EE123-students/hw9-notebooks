{
 "cells": [
  {
   "cell_type": "code",
   "execution_count": null,
   "metadata": {},
   "outputs": [],
   "source": [
    "import scipy.signal as signal\n",
    "import numpy as np\n",
    "from numpy.random import randn\n",
    "import matplotlib.pyplot as plt\n",
    "import timeit"
   ]
  },
  {
   "cell_type": "code",
   "execution_count": null,
   "metadata": {},
   "outputs": [],
   "source": [
    "%matplotlib inline\n",
    "plt.rcParams['figure.figsize'] = 16,6"
   ]
  },
  {
   "cell_type": "code",
   "execution_count": null,
   "metadata": {},
   "outputs": [],
   "source": [
    "def time_func(func, N, M):\n",
    "    x = randn(N)\n",
    "    h = signal.firwin(numtaps=10*M, cutoff=1./M)\n",
    "    if func is signal.decimate:\n",
    "        filt = signal.dlti(h, 1)\n",
    "        t = %timeit -q -o -r 2 func(x=x, q=M, ftype=filt)\n",
    "    elif func is signal.resample_poly:\n",
    "        t = %timeit -q -o -r 2 func(x=x, up=1, down=M, window=h)\n",
    "    else:\n",
    "        t = %timeit -q -o -r 2 func(x, h, M)\n",
    "    return t.average"
   ]
  },
  {
   "cell_type": "code",
   "execution_count": null,
   "metadata": {},
   "outputs": [],
   "source": [
    "def benchmark_func(func, N_vec, M_vec):\n",
    "    times = np.zeros((len(M_vec), len(N_vec)))\n",
    "    for i in range(len(M_vec)):\n",
    "        for j in range(len(N_vec)):\n",
    "            M = M_vec[i]\n",
    "            N = N_vec[j]\n",
    "            if 10*M > N:\n",
    "                times[i,j] = np.nan\n",
    "            else:\n",
    "                time = time_func(func, N, M)\n",
    "                times[i,j] = time * 1e3\n",
    "#                 print(\"({},{}) -- {:0.2f} ms\".format(N, M, time * 1e3))\n",
    "    return times"
   ]
  },
  {
   "cell_type": "code",
   "execution_count": null,
   "metadata": {},
   "outputs": [],
   "source": [
    "def filter_then_decimate(x, h, M):\n",
    "    # Inputs:  1-D numpy array, x, an input signal at rate fs\n",
    "    #          1-D numpy array, h, an anti-aliasing lowpass filter\n",
    "    #          int, M, the decimation factor\n",
    "    # Outputs: 1-D numpy array, y, the output signal at rate fs/M\n",
    "    \n",
    "    v = ??? # filter x with h using direct convolution\n",
    "    y = v[M-1:len(x):M] # decimate by M (and match input length)\n",
    "    \n",
    "    return y"
   ]
  },
  {
   "cell_type": "code",
   "execution_count": null,
   "metadata": {},
   "outputs": [],
   "source": [
    "def polyphase_downsample(x, h, M):\n",
    "    # Inputs:  1-D numpy array, x, an input signal at rate fs\n",
    "    #          1-D numpy array, h, an anti-aliasing lowpass filter\n",
    "    #          int, M, the decimation factor\n",
    "    # Outputs: 1-D numpy array, y, the output signal at rate fs/M\n",
    "    \n",
    "    y = np.zeros(len(x)//M)\n",
    "    for k in range(M):\n",
    "        xk = ??? # kth subsampled signal\n",
    "        ek = ??? # kth subsampled filter (need to flip because of convolution definition)\n",
    "        yk = ??? # filter xk with ek using direct convolution\n",
    "        y = ??? # add output contribution to final output\n",
    "    \n",
    "    return y"
   ]
  },
  {
   "cell_type": "code",
   "execution_count": null,
   "metadata": {},
   "outputs": [],
   "source": [
    "# check output for correctness\n",
    "N = 2 ** 10\n",
    "M = 2 ** 5\n",
    "x = randn(N)\n",
    "h = signal.firwin(numtaps=10*M, cutoff=1./M)\n",
    "y = polyphase_downsample(x, h, M)\n",
    "y0 = filter_then_decimate(x, h, M)\n",
    "rmse = np.sqrt( (abs(y - y0) ** 2).mean() )\n",
    "print(\"RMSE = \", rmse)"
   ]
  },
  {
   "cell_type": "code",
   "execution_count": null,
   "metadata": {},
   "outputs": [],
   "source": [
    "# benchmark functions (SLOW! May take a few minutes on the Pi.)\n",
    "N_vec = 2 ** np.array([6,8,10,12,14,16])\n",
    "M_vec = 2 ** np.array([2,6,10])\n",
    "times_ftd = benchmark_func(filter_then_decimate, N_vec, M_vec)\n",
    "times_poly = benchmark_func(polyphase_downsample, N_vec, M_vec)\n",
    "times_ftd_s = benchmark_func(signal.decimate, N_vec, M_vec)\n",
    "times_poly_s = benchmark_func(signal.resample_poly, N_vec, M_vec)"
   ]
  },
  {
   "cell_type": "code",
   "execution_count": null,
   "metadata": {},
   "outputs": [],
   "source": [
    "# plot benchmark data\n",
    "for i in range(len(M_vec)):\n",
    "    fig, ax = plt.subplots()\n",
    "    plt.loglog(N_vec, times_ftd[i], '.-')\n",
    "    plt.loglog(N_vec, times_poly[i], '.-')\n",
    "    plt.loglog(N_vec, times_ftd_s[i], '.-')\n",
    "    plt.loglog(N_vec, times_poly_s[i], '.-')\n",
    "    plt.legend([\"Filter then decimate (mine)\", \"Polyphase downsample (mine)\", \"Filter then decimate (Scipy's)\", \"Polyphase downsample (Scipy's)\"])\n",
    "    plt.title(\"Decimation factor = {}\".format(M_vec[i]))\n",
    "    plt.xlabel(\"Input signal size\")\n",
    "    plt.ylabel(\"Time [ms]\")\n",
    "    plt.show()"
   ]
  },
  {
   "cell_type": "markdown",
   "metadata": {},
   "source": [
    "#### Some questions:\n",
    "1. For very short inputs and low decimation factors, which of your implementations is faster?\n",
    "2. For high decimation factors, which of your implementations is faster?\n",
    "3. Scipy's filter-then-decimate is almost identical to Scipy's polyphase downsampling in speed. Why might this be? In what setting is polyphase downsampling most useful?\n",
    "4. How do your implementations compare to Scipy's built-in functions?"
   ]
  },
  {
   "cell_type": "markdown",
   "metadata": {},
   "source": [
    "#### Your answers here:\n"
   ]
  },
  {
   "cell_type": "code",
   "execution_count": null,
   "metadata": {},
   "outputs": [],
   "source": []
  }
 ],
 "metadata": {
  "kernelspec": {
   "display_name": "Python 3",
   "language": "python",
   "name": "python3"
  },
  "language_info": {
   "codemirror_mode": {
    "name": "ipython",
    "version": 3
   },
   "file_extension": ".py",
   "mimetype": "text/x-python",
   "name": "python",
   "nbconvert_exporter": "python",
   "pygments_lexer": "ipython3",
   "version": "3.5.3"
  }
 },
 "nbformat": 4,
 "nbformat_minor": 4
}
